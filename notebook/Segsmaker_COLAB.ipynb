{
  "cells": [
    {
      "cell_type": "markdown",
      "metadata": {
        "id": "view-in-github",
        "colab_type": "text"
      },
      "source": [
        "<a href=\"https://colab.research.google.com/github/q87uiok/Hamz/blob/main/notebook/Segsmaker_COLAB.ipynb\" target=\"_parent\"><img src=\"https://colab.research.google.com/assets/colab-badge.svg\" alt=\"Open In Colab\"/></a>"
      ]
    },
    {
      "cell_type": "markdown",
      "metadata": {
        "id": "COlOWoTOMKSP"
      },
      "source": [
        "<a href=\"https://github.com/gutris1/segsmaker\">\n",
        "  <img alt=\"GitHub repo\" src=\"https://img.shields.io/badge/GitHub-6e5494?style=for-the-badge&logo=github&logoColor=white\"/>\n",
        "</a><br>\n",
        "\n",
        "*   get your civitai api key from [here](https://civitai.com/user/account)"
      ]
    },
    {
      "cell_type": "code",
      "execution_count": null,
      "metadata": {
        "id": "tQqllRM-MCnT"
      },
      "outputs": [],
      "source": [
        "# @title <b><font color='orange'>WebUI Installer</font></b> {\"display-mode\":\"form\"}\n",
        "\n",
        "Webui = 'ReForge' # @param [\"A1111\", \"Forge\", \"ReForge\", \"Forge-Classic\", \"Forge-Neo\", \"ComfyUI\", \"SwarmUI\"]\n",
        "Civitai___Key = '754d3ce9deb86fbe13cea195ebc6c500' # @param { type: \"string\", placeholder: \"Your Civitai API Key (required)\" }\n",
        "HF_Read_Token = '' # @param { type: \"string\", placeholder: \"Your Huggingface READ Token (optional)\" }\n",
        "Mount__GDrive = 'No' # @param [\"Yes\", \"No\"]\n",
        "\n",
        "mount = Mount__GDrive\n",
        "\n",
        "if mount == 'Yes':\n",
        "    from google.colab import drive\n",
        "    drive.mount('/content/drive')\n",
        "\n",
        "!curl -sLo /content/setup.py https://github.com/gutris1/segsmaker/raw/main/script/KC/setup.py\n",
        "%run /content/setup.py --webui=\"$Webui\" --civitai_key=\"$Civitai___Key\" --hf_read_token=\"$HF_Read_Token\"\n",
        "\n",
        "if mount == 'Yes':\n",
        "    from pathlib import Path\n",
        "\n",
        "    d = Path('/content/drive/MyDrive/Segsmaker')\n",
        "\n",
        "    for n, p in {'checkpoint': CKPT, 'lora': LORA, 'vae': VAE, 'embeddings': Embeddings}.items():\n",
        "        f = d / n\n",
        "        f.mkdir(parents=True, exist_ok=True)\n",
        "        s = p / f'drive-{n}'\n",
        "        s.symlink_to(f, target_is_directory=True)\n",
        "\n",
        "    !rm -rf $WebUI_Output\n",
        "    o = d / {'ComfyUI': 'comfyui-output', 'SwarmUI': 'swarmui-output'}.get(Webui, 'output')\n",
        "    o.mkdir(parents=True, exist_ok=True)\n",
        "    WebUI_Output.symlink_to(o, target_is_directory=True)\n",
        "\n",
        "    if Webui not in {'ComfyUI', 'SwarmUI'}:\n",
        "        wc = WebUI / 'cache'\n",
        "        !rm -rf $wc\n",
        "        c = d / 'cache'\n",
        "        c.mkdir(parents=True, exist_ok=True)\n",
        "        wc.symlink_to(c, target_is_directory=True)"
      ]
    },
    {
      "cell_type": "code",
      "execution_count": null,
      "metadata": {
        "id": "9TeZZ9WrOsxS"
      },
      "outputs": [],
      "source": [
        "''' These are placeholders for commands with empty inputs. '''\n",
        "''' Replace them with actual values or skip/delete this cell. '''\n",
        "\n",
        "\n",
        "''' SD Extensions / ComfyUI Custom Nodes '''\n",
        "%cd -q $Extensions\n",
        "!git clone\n",
        "\n",
        "''' VAE '''\n",
        "%cd -q $VAE\n",
        "%download\n",
        "\n",
        "''' Embeddings '''\n",
        "%cd -q $Embeddings\n",
        "%download\n",
        "\n",
        "''' Upscalers '''\n",
        "%cd -q $Upscalers\n",
        "%download\n",
        "\n",
        "''' FLUX Unet '''\n",
        "%cd -q $UNET\n",
        "%download\n",
        "\n",
        "''' FLUX Clip '''\n",
        "%cd -q $CLIP\n",
        "%download"
      ]
    },
    {
      "cell_type": "code",
      "execution_count": null,
      "metadata": {
        "id": "CuR9tiSnPRBM"
      },
      "outputs": [],
      "source": [
        "''' Checkpoint '''\n",
        "%cd -q $CKPT\n",
        "%download https://civitai.com/models/827184/wai-nsfw-illustrious-sdxl\n",
        "\n",
        "''' LoRA '''\n",
        "%cd -q $LORA\n",
        "%download https://civitai.com/models/1082845/ilxlpony-togawagatame?modelVersionId=1238394\n",
        "%download https://civitai.com/api/download/models/1549826?type=Model&format=SafeTensor\n",
        "%download https://civitai.com/models/1498136/pussy-spec-report-illustrious-xl-v20\n",
        "%download https://civitai.com/models/731660/hugkissingbreast-press-pov-remake\n",
        "%download https://civitai.com/models/974567/ccd-camera-insertion-concept-illustrious-pony\n",
        "%download https://civitai.com/models/1356714/lora-illustriousxl-improved-spread-pussy\n",
        "%download https://civitai.com/models/1033274?modelVersionId=1167458\n",
        "%download https://civitai.com/models/1172830/hymen\n",
        "%download https://civitai.com/models/1177959/multiple-girls-slider-add-or-remove-subjects\n",
        "%download https://civitai.com/models/918034/conceptmultiple-views\n",
        "%download https://civitai.com/models/1265153/lucifer-sin-nanatsu-no-taizai-or-seven-mortal-sins\n",
        "%download https://civitai.com/models/1354857/multiple-girls-doggystyle\n",
        "%download https://civitai.com/models/1467536/half-spread-pussy-from-below-concept\n",
        "%download https://civitai.com/models/1433575/giri-style-nsfw-sex\n",
        "%download https://civitai.com/models/1341431/shinystar?modelVersionId=1624095\n",
        "%download https://civitai.com/models/1335716?modelVersionId=1643478\n",
        "%download https://civitai.com/models/1472540/spitroast-facing-ass-side-pov\n",
        "%download https://civitai.com/models/1488059/ass-ripple-booty-bounce-butt-impact-clapping-cheeks-etc-illustrious\n",
        "%download https://civitai.com/models/1025710/age-slider-lora-or-illustrious-xl\n",
        "%download https://civitai.com/models/1098655/anus-upgrade-lora-detailer-lora-noobai-v10-fix\n",
        "%download https://civitai.com/models/1512854/extremely-detailed-pussy-spread\n",
        "%download https://civitai.com/models/1555765/qiandai-yiyu-artist-style-illustrious\n",
        "%download https://civitai.com/models/1460002/female-pov-1st-person-point-of-view\n",
        "%download https://civitai.com/models/1583059/ilfemale-ejaculation\n",
        "%download https://civitai.com/models/1586131/pt-style-ill-v2\n",
        "%download https://civitai.com/models/1560809/better-uterus\n",
        "%download https://civitai.com/models/1632252/ilhymen\n",
        "%download https://civitai.com/models/1550719/alixx-style-or-goofy-ai\n",
        "%download https://civitai.com/models/929497/aesthetic-quality-modifiers-masterpiece?modelVersionId=1398703\n",
        "%download https://civitai.com/models/1163407/shiiro0-styles-or-003?modelVersionId=1308731\n",
        "%download https://civitai.com/models/572643/hairywomenxl\n",
        "%download https://civitai.com/models/1493953/anus-size-slider-for-illustrious\n",
        "%download https://civitai.com/models/2000558/rukia-or-artist-style-lora\n",
        "%download https://civitai.com/models/1697073/lighting?modelVersionId=1967210"
      ]
    },
    {
      "cell_type": "code",
      "execution_count": null,
      "metadata": {
        "id": "wO4OTCOWALEc"
      },
      "outputs": [],
      "source": [
        "''' Controlnet '''\n",
        "%run $Controlnet_Widget"
      ]
    },
    {
      "cell_type": "markdown",
      "metadata": {
        "id": "BB8pCZnrQnR9"
      },
      "source": [
        "## Launcher\n",
        "args list :\n",
        "-  **A1111** = `--xformers`\n",
        "- **Forge** = `--disable-xformers --opt-sdp-attention --cuda-stream`\n",
        "- **ReForge** = `--xformers --cuda-stream`\n",
        "- **Forge-Classic** = `--xformers --cuda-stream --persistent-patches`\n",
        "- **Forge-Neo** = `--xformers --cuda-stream`\n",
        "- **ComfyUI** = `--dont-print-server --use-pytorch-cross-attention`\n",
        "- **SwarmUI** = `--launch_mode none`\n",
        "<br><br>\n",
        "\n",
        "For ComfyUI, add `--skip-comfyui-check` to skip checking the main requirements and custom node dependencies\n",
        "\n",
        "Add **--N=ngrok_token** to start NGROK tunnel<br>\n",
        "Add **--Z=zrok_token** to start ZROK tunnel"
      ]
    },
    {
      "cell_type": "code",
      "execution_count": null,
      "metadata": {
        "id": "ps7AEUdGX2iE"
      },
      "outputs": [],
      "source": [
        "%cd -q $WebUI\n",
        "%run segsmaker.py --xformers --cuda-stream"
      ]
    }
  ],
  "metadata": {
    "accelerator": "GPU",
    "colab": {
      "gpuType": "T4",
      "provenance": [],
      "include_colab_link": true
    },
    "kernelspec": {
      "display_name": "Python 3",
      "name": "python3"
    },
    "language_info": {
      "name": "python"
    }
  },
  "nbformat": 4,
  "nbformat_minor": 0
}